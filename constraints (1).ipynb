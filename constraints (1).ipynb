{
  "cells": [
    {
      "cell_type": "markdown",
      "metadata": {
        "id": "j3SFOBCZFfHJ"
      },
      "source": [
        "# Adding constraints derived from a structure"
      ]
    },
    {
      "cell_type": "markdown",
      "source": [
        "**MOHINI KHEDEKAR**"
      ],
      "metadata": {
        "id": "5iX80ZHeFgsS"
      }
    },
    {
      "cell_type": "code",
      "execution_count": null,
      "metadata": {
        "colab": {
          "base_uri": "https://localhost:8080/"
        },
        "id": "qhQVEA26FfHM",
        "outputId": "a61b9a8a-d29a-47f0-f31a-a9acaeeaec9f"
      },
      "outputs": [
        {
          "output_type": "stream",
          "name": "stdout",
          "text": [
            "Looking in indexes: https://pypi.org/simple, https://us-python.pkg.dev/colab-wheels/public/simple/\n",
            "Collecting pyrosettacolabsetup\n",
            "  Downloading pyrosettacolabsetup-1.0.6-py3-none-any.whl (4.7 kB)\n",
            "Installing collected packages: pyrosettacolabsetup\n",
            "Successfully installed pyrosettacolabsetup-1.0.6\n",
            "Mounted at /content/google_drive\n",
            "Looking for compatible PyRosetta wheel file at google-drive/PyRosetta/colab.bin/wheels...\n",
            "Found compatible wheel: /content/google_drive/MyDrive/PyRosetta/colab.bin/wheels//content/google_drive/MyDrive/PyRosetta/colab.bin/wheels/pyrosetta-2023.19+release.d7aa7f94e8b-cp310-cp310-linux_x86_64.whl\n",
            "Looking in indexes: https://pypi.org/simple, https://us-python.pkg.dev/colab-wheels/public/simple/\n",
            "\n",
            "\n",
            "Notebook is set for PyRosetta use in Colab.  Have fun!\n"
          ]
        }
      ],
      "source": [
        "# You have to rerun this cell each time you start a new notebook or do a \"factory reset\".\n",
        "import sys\n",
        "if 'google.colab' in sys.modules:\n",
        "    !pip install pyrosettacolabsetup\n",
        "    import pyrosettacolabsetup\n",
        "    pyrosettacolabsetup.mount_pyrosetta_install()\n",
        "    print (\"Notebook is set for PyRosetta use in Colab.  Have fun!\")"
      ]
    },
    {
      "cell_type": "markdown",
      "metadata": {
        "id": "ZogTfUNjFfHO"
      },
      "source": [
        "Now cd into the correct directory"
      ]
    },
    {
      "cell_type": "code",
      "execution_count": null,
      "metadata": {
        "colab": {
          "base_uri": "https://localhost:8080/"
        },
        "id": "DZbUzJx7FfHO",
        "outputId": "a9ea6e6a-b008-44c0-cc2c-e4fb81f1d9f2"
      },
      "outputs": [
        {
          "output_type": "stream",
          "name": "stdout",
          "text": [
            "/content/google_drive/MyDrive/codeschool2023\n"
          ]
        }
      ],
      "source": [
        "cd /content/google_drive/MyDrive/codeschool2023"
      ]
    },
    {
      "cell_type": "markdown",
      "metadata": {
        "id": "z7CB-MlhFfHP"
      },
      "source": [
        "We initialize PyRosetta without any command line options."
      ]
    },
    {
      "cell_type": "code",
      "execution_count": null,
      "metadata": {
        "colab": {
          "base_uri": "https://localhost:8080/"
        },
        "id": "lpN4tWtcFfHP",
        "outputId": "9ae530e2-0ee4-4f3e-87cb-97ad37fa55eb"
      },
      "outputs": [
        {
          "output_type": "stream",
          "name": "stdout",
          "text": [
            "PyRosetta-4 2023 [Rosetta PyRosetta4.MinSizeRel.python310.ubuntu 2023.19+release.d7aa7f94e8be5e9d5110d37f167c2a7afd30c530 2023-05-08T16:22:16] retrieved from: http://www.pyrosetta.org\n",
            "(C) Copyright Rosetta Commons Member Institutions. Created in JHU by Sergey Lyskov and PyRosetta Team.\n",
            "core.init: Checking for fconfig files in pwd and ./rosetta/flags\n",
            "core.init: Rosetta version: PyRosetta4.MinSizeRel.python310.ubuntu r348 2023.19+release.d7aa7f94e8b d7aa7f94e8be5e9d5110d37f167c2a7afd30c530 http://www.pyrosetta.org 2023-05-08T16:22:16\n",
            "core.init: command: PyRosetta -ex1 -ex2aro -database /usr/local/lib/python3.10/dist-packages/pyrosetta/database\n",
            "basic.random.init_random_generator: 'RNG device' seed mode, using '/dev/urandom', seed=-204478048 seed_offset=0 real_seed=-204478048\n",
            "basic.random.init_random_generator: RandomGenerator:init: Normal mode, seed=-204478048 RG_type=mt19937\n"
          ]
        }
      ],
      "source": [
        "from pyrosetta import *\n",
        "init()"
      ]
    },
    {
      "cell_type": "markdown",
      "metadata": {
        "id": "7-MIpZZ_FfHP"
      },
      "source": [
        "Initiliazing pose and score function."
      ]
    },
    {
      "cell_type": "code",
      "execution_count": null,
      "metadata": {
        "colab": {
          "base_uri": "https://localhost:8080/"
        },
        "id": "-WpnC6FzFfHQ",
        "outputId": "2aed9a6d-4d53-493e-e564-59319359e5b0"
      },
      "outputs": [
        {
          "output_type": "stream",
          "name": "stdout",
          "text": [
            "core.import_pose.import_pose: File '/content/google_drive/MyDrive/codeschool2023/1ubq.pdb' automatically determined to be of type PDB\n",
            "core.scoring.ScoreFunctionFactory: SCOREFUNCTION: ref2015\n",
            "core.scoring.etable: Starting energy table calculation\n",
            "core.scoring.etable: smooth_etable: changing atr/rep split to bottom of energy well\n",
            "core.scoring.etable: smooth_etable: spline smoothing lj etables (maxdis = 6)\n",
            "core.scoring.etable: smooth_etable: spline smoothing solvation etables (max_dis = 6)\n",
            "core.scoring.etable: Finished calculating energy tables.\n",
            "basic.io.database: Database file opened: scoring/score_functions/hbonds/ref2015_params/HBPoly1D.csv\n",
            "basic.io.database: Database file opened: scoring/score_functions/hbonds/ref2015_params/HBFadeIntervals.csv\n",
            "basic.io.database: Database file opened: scoring/score_functions/hbonds/ref2015_params/HBEval.csv\n",
            "basic.io.database: Database file opened: scoring/score_functions/hbonds/ref2015_params/DonStrength.csv\n",
            "basic.io.database: Database file opened: scoring/score_functions/hbonds/ref2015_params/AccStrength.csv\n",
            "basic.io.database: Database file opened: scoring/score_functions/rama/fd/all.ramaProb\n",
            "basic.io.database: Database file opened: scoring/score_functions/rama/fd/prepro.ramaProb\n",
            "basic.io.database: Database file opened: scoring/score_functions/omega/omega_ppdep.all.txt\n",
            "basic.io.database: Database file opened: scoring/score_functions/omega/omega_ppdep.gly.txt\n",
            "basic.io.database: Database file opened: scoring/score_functions/omega/omega_ppdep.pro.txt\n",
            "basic.io.database: Database file opened: scoring/score_functions/omega/omega_ppdep.valile.txt\n",
            "basic.io.database: Database file opened: scoring/score_functions/P_AA_pp/P_AA\n",
            "basic.io.database: Database file opened: scoring/score_functions/P_AA_pp/P_AA_n\n",
            "core.scoring.P_AA: shapovalov_lib::shap_p_aa_pp_smooth_level of 1( aka low_smooth ) got activated.\n",
            "basic.io.database: Database file opened: scoring/score_functions/P_AA_pp/shapovalov/10deg/kappa131/a20.prop\n",
            "basic.io.database: Database file opened: scoring/score_functions/elec_cp_reps.dat\n",
            "core.scoring.elec.util: Read 40 countpair representative atoms\n",
            "core.pack.dunbrack.RotamerLibrary: shapovalov_lib_fixes_enable option is true.\n",
            "core.pack.dunbrack.RotamerLibrary: shapovalov_lib::shap_dun10_smooth_level of 1( aka lowest_smooth ) got activated.\n",
            "core.pack.dunbrack.RotamerLibrary: Binary rotamer library selected: /usr/local/lib/python3.10/dist-packages/pyrosetta/database/rotamer/shapovalov/StpDwn_0-0-0/Dunbrack10.lib.bin\n",
            "core.pack.dunbrack.RotamerLibrary: Using Dunbrack library binary file '/usr/local/lib/python3.10/dist-packages/pyrosetta/database/rotamer/shapovalov/StpDwn_0-0-0/Dunbrack10.lib.bin'.\n",
            "core.pack.dunbrack.RotamerLibrary: Dunbrack 2010 library took 0.483351 seconds to load from binary\n"
          ]
        },
        {
          "output_type": "execute_result",
          "data": {
            "text/plain": [
              "32.67775371933962"
            ]
          },
          "metadata": {},
          "execution_count": 5
        }
      ],
      "source": [
        "pose = pose_from_pdb(\"/content/google_drive/MyDrive/codeschool2023/1ubq.pdb\")\n",
        "sfxn = get_fa_scorefxn()\n",
        "sfxn(pose)"
      ]
    },
    {
      "cell_type": "markdown",
      "metadata": {
        "id": "ZIPMyIzHFfHQ"
      },
      "source": [
        "Let's prime the score function with a constraint score term. Let's also print out the score before we've added any constraints to the pose so we can refer back to it later."
      ]
    },
    {
      "cell_type": "code",
      "execution_count": null,
      "metadata": {
        "colab": {
          "base_uri": "https://localhost:8080/"
        },
        "id": "MbPfthQXFfHR",
        "outputId": "a93a239a-2475-4823-86f0-292660b33bf2"
      },
      "outputs": [
        {
          "output_type": "stream",
          "name": "stdout",
          "text": [
            "core.scoring.ScoreFunction: \n",
            "------------------------------------------------------------\n",
            " Scores                       Weight   Raw Score Wghtd.Score\n",
            "------------------------------------------------------------\n",
            " fa_atr                       1.000    -397.647    -397.647\n",
            " fa_rep                       0.550     103.707      57.039\n",
            " fa_sol                       1.000     242.952     242.952\n",
            " fa_intra_rep                 0.005     355.469       1.777\n",
            " fa_intra_sol_xover4          1.000      16.826      16.826\n",
            " lk_ball_wtd                  1.000      -8.756      -8.756\n",
            " fa_elec                      1.000    -113.091    -113.091\n",
            " pro_close                    1.250       1.906       2.383\n",
            " hbond_sr_bb                  1.000     -18.828     -18.828\n",
            " hbond_lr_bb                  1.000     -23.132     -23.132\n",
            " hbond_bb_sc                  1.000      -7.389      -7.389\n",
            " hbond_sc                     1.000      -1.549      -1.549\n",
            " dslf_fa13                    1.250       0.000       0.000\n",
            " atom_pair_constraint         1.000       0.000       0.000\n",
            " omega                        0.400       4.284       1.713\n",
            " fa_dun                       0.700     412.284     288.599\n",
            " p_aa_pp                      0.600     -21.346     -12.808\n",
            " yhh_planarity                0.625       0.000       0.000\n",
            " ref                          1.000      11.884      11.884\n",
            " rama_prepro                  0.450     -16.216      -7.297\n",
            "---------------------------------------------------\n",
            " Total weighted score:                       32.678\n"
          ]
        }
      ],
      "source": [
        "from pyrosetta.rosetta.core.scoring import *\n",
        "sfxn.set_weight(atom_pair_constraint, 1.0)\n",
        "sfxn.show(pose)"
      ]
    },
    {
      "cell_type": "markdown",
      "metadata": {
        "id": "7rEubxCzFfHR"
      },
      "source": [
        "To define where the constraints need to be applied, we will need to use residue selectors. Let's use a `LayerSelector` to select the surface residues."
      ]
    },
    {
      "cell_type": "code",
      "execution_count": null,
      "metadata": {
        "colab": {
          "base_uri": "https://localhost:8080/"
        },
        "id": "vZjB6xzmFfHS",
        "outputId": "51e0b4b8-8913-410b-dcc7-348bf39ef11c"
      },
      "outputs": [
        {
          "output_type": "stream",
          "name": "stdout",
          "text": [
            "core.select.residue_selector.LayerSelector: Setting LayerSelector to use sidechain neighbors to determine burial.\n",
            "core.select.residue_selector.LayerSelector: Set cutoffs for core and surface to 5.2 and 2, respectively, in LayerSelector.\n",
            "core.select.residue_selector.LayerSelector: Setting core=false boundary=false surface=true in LayerSelector.\n"
          ]
        }
      ],
      "source": [
        "from pyrosetta.rosetta.core.select.residue_selector import *\n",
        "surface_res = LayerSelector()\n",
        "surface_res.set_layers(False, False, True) # use \"?\" to look at this function arguments"
      ]
    },
    {
      "cell_type": "markdown",
      "metadata": {
        "id": "savAO6AJFfHS"
      },
      "source": [
        "To check which residues are selected on the pose, we can apply it. `1` means that the residue has been selected (and is a surface residue), `0` means that it has not."
      ]
    },
    {
      "cell_type": "code",
      "execution_count": null,
      "metadata": {
        "colab": {
          "base_uri": "https://localhost:8080/"
        },
        "id": "EpC4LEpFFfHS",
        "outputId": "26b34aa1-928b-4d45-8fb6-841aa8abc572"
      },
      "outputs": [
        {
          "output_type": "execute_result",
          "data": {
            "text/plain": [
              "vector1_bool[0, 1, 0, 1, 0, 1, 1, 1, 1, 1, 1, 1, 0, 1, 0, 1, 0, 1, 1, 1, 0, 1, 0, 1, 0, 0, 0, 1, 0, 0, 1, 1, 0, 0, 1, 0, 1, 0, 1, 1, 0, 1, 0, 1, 0, 1, 1, 1, 1, 0, 1, 1, 1, 0, 1, 0, 1, 0, 0, 1, 0, 1, 1, 1, 0, 1, 0, 1, 0, 1, 1, 1, 1, 1, 1, 1]"
            ]
          },
          "metadata": {},
          "execution_count": 8
        }
      ],
      "source": [
        "surface_res.apply(pose)"
      ]
    },
    {
      "cell_type": "markdown",
      "metadata": {
        "id": "FKpOIcFjFfHS"
      },
      "source": [
        "Now let's create atom pair constraints. For this, we use `AtomPairConstraintGenerator`. **By default, it uses the Sum Of Gaussians function to score the distances between atoms.** The \"sum\" part is not really used, because there is just one gaussian. This gaussian turns a distance into a probability, `prob`, and the energy is taken as the `-ln(prob)`.   We will pass the residue selector to the generator, set the maximum distance at under which it will create atom pair constraints (5.0 Ang), the standard deviation of the gaussians, and set the constraints to only be generated between pairs of C-alpha atoms."
      ]
    },
    {
      "cell_type": "code",
      "execution_count": null,
      "metadata": {
        "id": "PpzfDr99FfHT"
      },
      "outputs": [],
      "source": [
        "from pyrosetta.rosetta.protocols.constraint_generator import *\n",
        "apcg = AtomPairConstraintGenerator()\n",
        "apcg.set_residue_selector(surface_res)\n",
        "apcg.set_max_distance(5.0)\n",
        "apcg.set_sd(1.0)\n",
        "apcg.set_ca_only(True)"
      ]
    },
    {
      "cell_type": "markdown",
      "metadata": {
        "id": "mUm35ILUFfHT"
      },
      "source": [
        "While we could directly apply the `AtomPairConstraintGenerator` to the pose, the recommended method is to add it to an `AddConstraints` object. Multiple constraint generators can be added to this. We then apply all the constraints."
      ]
    },
    {
      "cell_type": "code",
      "execution_count": null,
      "metadata": {
        "colab": {
          "base_uri": "https://localhost:8080/"
        },
        "id": "9KkCmV4JFfHT",
        "outputId": "150b4728-4f86-4081-94cc-72284c47b5f6"
      },
      "outputs": [
        {
          "output_type": "stream",
          "name": "stdout",
          "text": [
            "protocols.constraint_generator.AddConstraints: Adding 9 constraints generated by ConstraintGenerator named unnamed_constraint_generator\n"
          ]
        }
      ],
      "source": [
        "add_csts = AddConstraints()\n",
        "add_csts.add_generator(apcg)\n",
        "add_csts.apply(pose)"
      ]
    },
    {
      "cell_type": "markdown",
      "metadata": {
        "id": "DIo_lgaLFfHU"
      },
      "source": [
        "Let's check if the constraints were applied."
      ]
    },
    {
      "cell_type": "code",
      "execution_count": null,
      "metadata": {
        "colab": {
          "base_uri": "https://localhost:8080/"
        },
        "id": "hgMqKBPkFfHU",
        "outputId": "a80f0041-f33e-423b-c91a-e26a2e454533"
      },
      "outputs": [
        {
          "output_type": "stream",
          "name": "stdout",
          "text": [
            "core.scoring.ScoreFunction: \n",
            "------------------------------------------------------------\n",
            " Scores                       Weight   Raw Score Wghtd.Score\n",
            "------------------------------------------------------------\n",
            " fa_atr                       1.000    -397.647    -397.647\n",
            " fa_rep                       0.550     103.707      57.039\n",
            " fa_sol                       1.000     242.952     242.952\n",
            " fa_intra_rep                 0.005     355.469       1.777\n",
            " fa_intra_sol_xover4          1.000      16.826      16.826\n",
            " lk_ball_wtd                  1.000      -8.756      -8.756\n",
            " fa_elec                      1.000    -113.091    -113.091\n",
            " pro_close                    1.250       1.906       2.383\n",
            " hbond_sr_bb                  1.000     -18.828     -18.828\n",
            " hbond_lr_bb                  1.000     -23.132     -23.132\n",
            " hbond_bb_sc                  1.000      -7.389      -7.389\n",
            " hbond_sc                     1.000      -1.549      -1.549\n",
            " dslf_fa13                    1.250       0.000       0.000\n",
            " atom_pair_constraint         1.000    -129.503    -129.503\n",
            " omega                        0.400       4.284       1.713\n",
            " fa_dun                       0.700     412.284     288.599\n",
            " p_aa_pp                      0.600     -21.346     -12.808\n",
            " yhh_planarity                0.625       0.000       0.000\n",
            " ref                          1.000      11.884      11.884\n",
            " rama_prepro                  0.450     -16.216      -7.297\n",
            "---------------------------------------------------\n",
            " Total weighted score:                      -96.825\n"
          ]
        }
      ],
      "source": [
        "sfxn.show(pose)"
      ]
    },
    {
      "cell_type": "markdown",
      "metadata": {
        "id": "loimXMe4FfHU"
      },
      "source": [
        "The sum of gaussians function acts more like a reward. A large neagtive number indicates that all 9 constraints were satisfied. What happens when we disrupt some surface interactions in a perturbed structure?"
      ]
    },
    {
      "cell_type": "code",
      "execution_count": null,
      "metadata": {
        "id": "86nwxCwrFfHU"
      },
      "outputs": [],
      "source": [
        "pose_perturbed = pose.clone()  # copy the conformation and the constraints\n",
        "pose_perturbed.set_phi(25, -130)\n",
        "pose_perturbed.set_psi(25,  145)"
      ]
    },
    {
      "cell_type": "code",
      "execution_count": null,
      "metadata": {
        "colab": {
          "base_uri": "https://localhost:8080/"
        },
        "id": "VBCbcyArFfHU",
        "outputId": "af85bde9-c054-44a2-94b1-e69508f46b1c"
      },
      "outputs": [
        {
          "output_type": "stream",
          "name": "stdout",
          "text": [
            "core.scoring.ScoreFunction: \n",
            "------------------------------------------------------------\n",
            " Scores                       Weight   Raw Score Wghtd.Score\n",
            "------------------------------------------------------------\n",
            " fa_atr                       1.000    -575.051    -575.051\n",
            " fa_rep                       0.550   55367.773   30452.275\n",
            " fa_sol                       1.000     413.031     413.031\n",
            " fa_intra_rep                 0.005     355.301       1.777\n",
            " fa_intra_sol_xover4          1.000      16.485      16.485\n",
            " lk_ball_wtd                  1.000     -16.198     -16.198\n",
            " fa_elec                      1.000     -84.545     -84.545\n",
            " pro_close                    1.250       1.906       2.383\n",
            " hbond_sr_bb                  1.000     -15.276     -15.276\n",
            " hbond_lr_bb                  1.000     -13.621     -13.621\n",
            " hbond_bb_sc                  1.000      -7.087      -7.087\n",
            " hbond_sc                     1.000      -2.165      -2.165\n",
            " dslf_fa13                    1.250       0.000       0.000\n",
            " atom_pair_constraint         1.000     -63.617     -63.617\n",
            " omega                        0.400       4.164       1.665\n",
            " fa_dun                       0.700     413.041     289.129\n",
            " p_aa_pp                      0.600     -21.221     -12.733\n",
            " yhh_planarity                0.625       0.000       0.000\n",
            " ref                          1.000      11.884      11.884\n",
            " rama_prepro                  0.450     -15.873      -7.143\n",
            "---------------------------------------------------\n",
            " Total weighted score:                    30391.195\n"
          ]
        }
      ],
      "source": [
        "sfxn.show(pose_perturbed)"
      ]
    },
    {
      "cell_type": "markdown",
      "metadata": {
        "id": "aI8VLYpwFfHU"
      },
      "source": [
        "The reward is much smaller owing to the perturbation of the pose."
      ]
    },
    {
      "cell_type": "code",
      "execution_count": null,
      "metadata": {
        "id": "1pxPa3d9FfHU"
      },
      "outputs": [],
      "source": []
    }
  ],
  "metadata": {
    "kernelspec": {
      "display_name": "Python 3",
      "language": "python",
      "name": "python3"
    },
    "language_info": {
      "codemirror_mode": {
        "name": "ipython",
        "version": 3
      },
      "file_extension": ".py",
      "mimetype": "text/x-python",
      "name": "python",
      "nbconvert_exporter": "python",
      "pygments_lexer": "ipython3",
      "version": "3.7.7"
    },
    "colab": {
      "provenance": []
    }
  },
  "nbformat": 4,
  "nbformat_minor": 0
}